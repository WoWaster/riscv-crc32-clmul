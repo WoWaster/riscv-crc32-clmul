{
 "cells": [
  {
   "cell_type": "code",
   "execution_count": 1,
   "id": "b9f49a0e-f7c9-4b2a-8f22-ad759a1e1673",
   "metadata": {},
   "outputs": [],
   "source": [
    "from scipy import stats\n",
    "import numpy as np\n",
    "import matplotlib.pyplot as plt\n",
    "from collections import Counter"
   ]
  },
  {
   "cell_type": "code",
   "execution_count": 2,
   "id": "25730ef3-3ebd-4155-9486-58854caa4f91",
   "metadata": {},
   "outputs": [],
   "source": [
    "def get_data_from_gem5_stats(path: str) -> list[int]:\n",
    "    data: list[int] = []\n",
    "    with open(path, \"r\") as gem5_stats:\n",
    "        for line in gem5_stats:\n",
    "            line_parts = line.split()\n",
    "            if len(line_parts) >= 2:\n",
    "                if line_parts[0] == \"simTicks\":\n",
    "                    data.append(int(line_parts[1]))\n",
    "    data.pop()\n",
    "    return data\n",
    "\n",
    "data = get_data_from_gem5_stats(\"benchmarks_data/stats_100_64kB_clmul.txt\") # change path here to use other file\n",
    "# print(data)\n",
    "# Counter(data).most_common()"
   ]
  },
  {
   "cell_type": "code",
   "execution_count": 3,
   "id": "03b524dd-220c-4800-b1c5-6e7b3d1c0579",
   "metadata": {},
   "outputs": [
    {
     "data": {
      "text/plain": [
       "(array([ 2.,  6., 11., 18., 16., 24., 10.,  8.,  4.,  1.]),\n",
       " array([29820500., 29954600., 30088700., 30222800., 30356900., 30491000.,\n",
       "        30625100., 30759200., 30893300., 31027400., 31161500.]),\n",
       " <BarContainer object of 10 artists>)"
      ]
     },
     "execution_count": 3,
     "metadata": {},
     "output_type": "execute_result"
    },
    {
     "data": {
      "image/png": "[encoded data removed]",
      "text/plain": [
       "<Figure size 640x480 with 1 Axes>"
      ]
     },
     "metadata": {},
     "output_type": "display_data"
    }
   ],
   "source": [
    "plt.hist(data)"
   ]
  },
  {
   "cell_type": "code",
   "execution_count": 4,
   "id": "37d9be20-fe9b-4a7d-a881-8a842a5ff629",
   "metadata": {},
   "outputs": [
    {
     "data": {
      "text/plain": [
       "NormaltestResult(statistic=0.05396036611994981, pvalue=0.973380530756809)"
      ]
     },
     "execution_count": 4,
     "metadata": {},
     "output_type": "execute_result"
    }
   ],
   "source": [
    "stats.normaltest(data)"
   ]
  },
  {
   "cell_type": "code",
   "execution_count": 5,
   "id": "3d2b8039-1d3c-4f7d-9172-61a4112f23f6",
   "metadata": {},
   "outputs": [
    {
     "data": {
      "text/plain": [
       "ShapiroResult(statistic=0.9941201210021973, pvalue=0.9455427527427673)"
      ]
     },
     "execution_count": 5,
     "metadata": {},
     "output_type": "execute_result"
    }
   ],
   "source": [
    "stats.shapiro(data)"
   ]
  },
  {
   "cell_type": "code",
   "execution_count": 6,
   "id": "37207721-97fa-47cb-9c7f-54fba153eadf",
   "metadata": {},
   "outputs": [
    {
     "data": {
      "text/plain": [
       "30453640.0"
      ]
     },
     "execution_count": 6,
     "metadata": {},
     "output_type": "execute_result"
    }
   ],
   "source": [
    "np.mean(data)"
   ]
  },
  {
   "cell_type": "code",
   "execution_count": 7,
   "id": "cac0c5a6-d27c-4bc8-af7c-fc006d99cd71",
   "metadata": {},
   "outputs": [
    {
     "data": {
      "text/plain": [
       "253989.2135624279"
      ]
     },
     "execution_count": 7,
     "metadata": {},
     "output_type": "execute_result"
    }
   ],
   "source": [
    "np.std(data, ddof=1)"
   ]
  },
  {
   "cell_type": "code",
   "execution_count": 8,
   "id": "59e61e0b-78b2-4f24-86e1-15e1aa740294",
   "metadata": {},
   "outputs": [
    {
     "data": {
      "text/plain": [
       "0.8340192291050526"
      ]
     },
     "execution_count": 8,
     "metadata": {},
     "output_type": "execute_result"
    }
   ],
   "source": [
    "np.std(data, ddof=1)/np.mean(data) * 100"
   ]
  }
 ],
 "metadata": {
  "kernelspec": {
   "display_name": "Python 3 (ipykernel)",
   "language": "python",
   "name": "python3"
  },
  "language_info": {
   "codemirror_mode": {
    "name": "ipython",
    "version": 3
   },
   "file_extension": ".py",
   "mimetype": "text/x-python",
   "name": "python",
   "nbconvert_exporter": "python",
   "pygments_lexer": "ipython3",
   "version": "3.10.9"
  }
 },
 "nbformat": 4,
 "nbformat_minor": 5
}
